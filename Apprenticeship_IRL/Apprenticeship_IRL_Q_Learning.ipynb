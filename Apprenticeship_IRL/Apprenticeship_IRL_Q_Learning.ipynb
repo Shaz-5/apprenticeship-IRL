{
 "cells": [
  {
   "cell_type": "markdown",
   "id": "3ce73a78",
   "metadata": {},
   "source": [
    "# Apprenticeship Learning via IRL - Q Learning"
   ]
  },
  {
   "cell_type": "markdown",
   "id": "09322083",
   "metadata": {},
   "source": [
    "* This notebook aims to showcase the application of Inverse Reinforcement Learning (IRL) to solve the CartPole model from the OpenAI Gym.\n",
    "\n",
    "* Algorithm based on the paper titled \"Apprenticeship Learning via Inverse Reinforcement Learning.\"\n",
    "\n",
    "* The IRL algorithm requires an expert demonstration as input. In this case, the expert demonstration is derived from a traditional Q-learning implementation (with discretized state space).\n",
    "\n",
    "* The primary purpose of this implementation is to serve as a demonstration, showcasing the effectiveness of Inverse Reinforcement Learning in solving the CartPole problem."
   ]
  },
  {
   "cell_type": "markdown",
   "id": "489168eb",
   "metadata": {},
   "source": [
    "## CartPole-v0"
   ]
  },
  {
   "cell_type": "markdown",
   "id": "e12f553f",
   "metadata": {},
   "source": [
    "[CartPole-v0 Wiki](https://github.com/openai/gym/wiki/CartPole-v0)"
   ]
  },
  {
   "cell_type": "code",
   "execution_count": 28,
   "id": "4b09e805",
   "metadata": {},
   "outputs": [],
   "source": [
    "import gym\n",
    "import numpy as np\n",
    "from tqdm import tqdm\n",
    "import imageio\n",
    "import pickle\n",
    "import matplotlib.pyplot as plt\n",
    "from IPython.display import clear_output, display, Image"
   ]
  },
  {
   "cell_type": "code",
   "execution_count": 2,
   "id": "2c1cd7e6",
   "metadata": {},
   "outputs": [],
   "source": [
    "env = gym.make('CartPole-v0')\n",
    "\n",
    "nbins = 10    # discretization\n",
    "GAMMA = 0.9   # discount factor\n",
    "ALPHA = 0.01  # learning rate"
   ]
  },
  {
   "cell_type": "markdown",
   "id": "26394dc8",
   "metadata": {},
   "source": [
    "Observations\n",
    "\n",
    "Num | Observation | Min | Max\n",
    "---|---|---|---\n",
    "0 | Cart Position | -2.4 | 2.4\n",
    "1 | Cart Velocity | -Inf | Inf\n",
    "2 | Pole Angle | ~ -0.418 rad (-24&deg;) | ~ 0.418 rad (24&deg;)\n",
    "3 | Pole Velocity At Tip | -Inf | Inf"
   ]
  },
  {
   "cell_type": "code",
   "execution_count": 3,
   "id": "a5a53609",
   "metadata": {},
   "outputs": [],
   "source": [
    "# Discretize the continuous observable state space\n",
    "\n",
    "bins = np.zeros((4,nbins))\n",
    "\n",
    "bins[0] = np.linspace(-2.4, 2.4, nbins)    # position\n",
    "bins[1] = np.linspace(-5, 5, nbins)        # velocity\n",
    "bins[2] = np.linspace(-.418, .418, nbins)  # angle\n",
    "bins[3] = np.linspace(-5, 5, nbins)        # tip velocity"
   ]
  },
  {
   "cell_type": "code",
   "execution_count": 4,
   "id": "60fe2057",
   "metadata": {
    "scrolled": false
   },
   "outputs": [],
   "source": [
    "# States\n",
    "\n",
    "states = []\n",
    "\n",
    "for i in range (nbins+1):\n",
    "    for j in range (nbins+1):\n",
    "        for k in range(nbins+1):\n",
    "            for l in range(nbins+1):\n",
    "                a=str(i).zfill(2)+str(j).zfill(2)+str(k).zfill(2)+str(l).zfill(2)\n",
    "                states.append(a)"
   ]
  },
  {
   "cell_type": "code",
   "execution_count": 5,
   "id": "e0cb3bad",
   "metadata": {},
   "outputs": [
    {
     "data": {
      "text/plain": [
       "14641"
      ]
     },
     "execution_count": 5,
     "metadata": {},
     "output_type": "execute_result"
    }
   ],
   "source": [
    "# Possible states = (nbins+1)^4\n",
    "\n",
    "len(states)"
   ]
  },
  {
   "cell_type": "markdown",
   "id": "47df4655",
   "metadata": {},
   "source": [
    "Actions:\n",
    "Num | Action\n",
    "--- | ---\n",
    "0 | Push cart to the left\n",
    "1 | Push cart to the right"
   ]
  },
  {
   "cell_type": "code",
   "execution_count": 6,
   "id": "f9986c0e",
   "metadata": {},
   "outputs": [
    {
     "data": {
      "text/plain": [
       "2"
      ]
     },
     "execution_count": 6,
     "metadata": {},
     "output_type": "execute_result"
    }
   ],
   "source": [
    "# Possible actions\n",
    "\n",
    "env.action_space.n"
   ]
  },
  {
   "cell_type": "code",
   "execution_count": 7,
   "id": "8bf9fca3",
   "metadata": {},
   "outputs": [],
   "source": [
    "# Initialize Q Table\n",
    "\n",
    "def init_Q():\n",
    "    \n",
    "    Q = {}\n",
    "    \n",
    "    for state in states:\n",
    "        Q[state] = {}\n",
    "        \n",
    "        for action in range(env.action_space.n):\n",
    "            Q[state][action] = 0\n",
    "    \n",
    "    return Q"
   ]
  },
  {
   "cell_type": "code",
   "execution_count": 8,
   "id": "023e6ea7",
   "metadata": {},
   "outputs": [],
   "source": [
    "# Discretize observation into bins\n",
    "\n",
    "def assign_bins(observation, bins):\n",
    "    \n",
    "    discretized_state = np.zeros(4)\n",
    "    \n",
    "    for i in range(4):\n",
    "        discretized_state[i] = np.digitize(observation[i], bins[i])\n",
    "        \n",
    "    return discretized_state"
   ]
  },
  {
   "cell_type": "code",
   "execution_count": 9,
   "id": "fb870fbd",
   "metadata": {},
   "outputs": [],
   "source": [
    "# Encode state into string representation as a dictionary\n",
    "\n",
    "def get_string_state(state):\n",
    "\n",
    "    string_state = ''.join(str(int(e)).zfill(2) for e in state)\n",
    "    \n",
    "    return string_state"
   ]
  },
  {
   "cell_type": "code",
   "execution_count": 10,
   "id": "fb2d7c27",
   "metadata": {},
   "outputs": [],
   "source": [
    "# Train an episode\n",
    "\n",
    "def train_an_episode(bins, Q, epsilon=0.5):\n",
    "    \"\"\"\n",
    "    Simulate one episode of training.\n",
    "\n",
    "    Parameters:\n",
    "    - bins: Discretization bins for state representation.\n",
    "    - Q: Q-table for the reinforcement learning agent.\n",
    "    - epsilon: Exploration-exploitation trade-off parameter.\n",
    "\n",
    "    Returns:\n",
    "    - total_reward: Total reward obtained during the episode.\n",
    "    - move_count: Number of moves in the episode.\n",
    "    \"\"\"\n",
    "    \n",
    "    observation = env.reset()\n",
    "    done = False\n",
    "    move_count = 0   # no. of moves in an episode\n",
    "    state = get_string_state(assign_bins(observation, bins))\n",
    "    total_reward = 0\n",
    "\n",
    "    while not done:\n",
    "        move_count += 1\n",
    "\n",
    "        if np.random.uniform() < epsilon:\n",
    "            action = env.action_space.sample()  # epsilon-greedy exploration\n",
    "        else:\n",
    "            action = max(Q[state].items(), key=lambda x: x[1])[0]   # action with max value\n",
    "\n",
    "        observation, reward, done, _ = env.step(action)\n",
    "\n",
    "        total_reward += reward\n",
    "\n",
    "        # penalize early episode termination\n",
    "        if done and move_count < 200:\n",
    "            reward = -300\n",
    "\n",
    "        new_state = get_string_state(assign_bins(observation, bins))\n",
    "\n",
    "        best_action, max_q_s1a1 = max(Q[new_state].items(), key=lambda x: x[1])\n",
    "        Q[state][action] += ALPHA * (reward + GAMMA * max_q_s1a1 - Q[state][action])\n",
    "        state, action = new_state, best_action\n",
    "\n",
    "    return total_reward, move_count"
   ]
  },
  {
   "cell_type": "code",
   "execution_count": 11,
   "id": "6d8d36a7",
   "metadata": {},
   "outputs": [],
   "source": [
    "# Train for many episodes\n",
    "\n",
    "def q_learning_train(bins, num_episodes=10000, print_interval=1000):\n",
    "    \"\"\"\n",
    "    Train a Q-learning agent through multiple episodes.\n",
    "    \n",
    "    Parameters:\n",
    "    - bins: Discretization bins for state representation.\n",
    "    - num_episodes: Number of training episodes.\n",
    "    - print_interval: Interval for printing training progress.\n",
    "    \n",
    "    Returns:\n",
    "    - episode_lengths: List of lengths for each episode.\n",
    "    - episode_rewards: List of rewards for each episode.\n",
    "    - Q: Trained Q-table.\n",
    "    \"\"\"\n",
    "    \n",
    "    Q = init_Q()\n",
    "    episode_lengths = []\n",
    "    episode_rewards = []\n",
    "\n",
    "    for episode in tqdm(range(1, num_episodes + 1), desc=\"Training Episodes..\"):\n",
    "        epsilon = 1.0 / np.sqrt(episode + 1)\n",
    "\n",
    "        episode_reward, episode_length = train_an_episode(bins, Q, epsilon)\n",
    "\n",
    "        if episode % print_interval == 0:\n",
    "            print(f\"Episode: {episode}, Epsilon: {epsilon:.4f}, Reward: {episode_reward}\")\n",
    "\n",
    "        episode_lengths.append(episode_length)\n",
    "        episode_rewards.append(episode_reward)\n",
    "\n",
    "    env.close()\n",
    "    \n",
    "    return episode_lengths, episode_rewards, Q"
   ]
  },
  {
   "cell_type": "code",
   "execution_count": 26,
   "id": "a1747c1a",
   "metadata": {},
   "outputs": [],
   "source": [
    "# Plot reward curve\n",
    "\n",
    "def plot_performance(total_rewards, title='Running Average Reward', save=False, filename='result'):\n",
    "    \"\"\"\n",
    "    Plot the running average of rewards during training.\n",
    "\n",
    "    Parameters:\n",
    "    - total_rewards: List of total rewards obtained in each episode during training.\n",
    "    - title: Title of the plot.\n",
    "    - save: If True, save the plot as an image file.\n",
    "    - filename: Name (or path) of the file if saving the plot.\n",
    "\n",
    "    Returns:\n",
    "    - None\n",
    "    \"\"\"\n",
    "    \n",
    "    fig = plt.figure()\n",
    "    num_episodes = len(total_rewards)\n",
    "    running_avg = np.empty(num_episodes)\n",
    "\n",
    "    for episode in range(num_episodes):\n",
    "        running_avg[episode] = np.mean(total_rewards[max(0, episode - 100):(episode + 1)])\n",
    "\n",
    "    plt.plot(running_avg)\n",
    "    plt.title(title)\n",
    "    plt.xlabel(\"Episode\")\n",
    "    plt.ylabel(\"Running Average Reward\")\n",
    "\n",
    "    if save:\n",
    "        plt.savefig(f\"{filename}.png\", bbox_inches='tight')\n",
    "        plt.show()\n",
    "    else:\n",
    "        plt.show()"
   ]
  },
  {
   "cell_type": "code",
   "execution_count": 13,
   "id": "666d38d4",
   "metadata": {},
   "outputs": [],
   "source": [
    "# simulate env using policy\n",
    "\n",
    "def run_policy(bins, Q, num_episodes=1000, render=False, render_filename=''):\n",
    "    \"\"\"\n",
    "    Run an environment using a trained policy.\n",
    "\n",
    "    Parameters:\n",
    "    - bins: Discretization bins for state representation.\n",
    "    - Q: Trained Q-table.\n",
    "    - num_episodes: Number of episodes to run the policy.\n",
    "    - render: If True, render the environment during execution.\n",
    "    - render_filename: File name (or path) of gif of the render to be saved if rendering.\n",
    "\n",
    "    Returns:\n",
    "    - total_rewards: List of total rewards obtained in each episode.\n",
    "    \"\"\"\n",
    "    \n",
    "    total_rewards = []\n",
    "\n",
    "    for episode in range(num_episodes):\n",
    "        observation = env.reset()\n",
    "        done = False\n",
    "        episode_reward = 0\n",
    "\n",
    "        images = []\n",
    "        while not done:\n",
    "            if render:\n",
    "                img = env.render(mode='rgb_array')\n",
    "                images.append(img)\n",
    "\n",
    "            state = get_string_state(assign_bins(observation, bins))\n",
    "            action = max(Q[state].items(), key=lambda x: x[1])[0]\n",
    "            observation, reward, done, _ = env.step(action)\n",
    "            episode_reward += reward\n",
    "\n",
    "        total_rewards.append(episode_reward)\n",
    "\n",
    "    if render:\n",
    "        imageio.mimsave(f'{render_filename}.gif', images, fps=30, loop=0)\n",
    "        with open(f'{render_filename}.gif', 'rb') as f:\n",
    "            display(Image(data=f.read(), format='gif'))\n",
    "        env.close()\n",
    "\n",
    "    return total_rewards"
   ]
  },
  {
   "cell_type": "markdown",
   "id": "aea34dab",
   "metadata": {},
   "source": [
    "## Training - Obtain Expert Policy"
   ]
  },
  {
   "cell_type": "markdown",
   "id": "17ef18e4",
   "metadata": {},
   "source": [
    "* Agent is trained using traditional Q-learning to obtain expert policy for Inverse Reinforcement Learning (IRL).\n",
    "\n",
    "* Rewards from state-action pairs are stored in a 10000 x 2 array, with rows representing states and columns representing actions. Each cell in the array holds the reward associated with a specific state-action pair.\n",
    "\n",
    "* The algorithm utilizes an epsilon-greedy approach to choose its actions during training iterations.\n",
    "\n",
    "* The Q table, which is updated iteratively, represents the policy."
   ]
  },
  {
   "cell_type": "code",
   "execution_count": 14,
   "id": "fcd06dda",
   "metadata": {},
   "outputs": [
    {
     "name": "stderr",
     "output_type": "stream",
     "text": [
      "Training Episodes..:   5%|▊               | 1077/20000 [00:02<00:40, 467.39it/s]"
     ]
    },
    {
     "name": "stdout",
     "output_type": "stream",
     "text": [
      "Episode: 1000, Epsilon: 0.0316, Reward: 118.0\n"
     ]
    },
    {
     "name": "stderr",
     "output_type": "stream",
     "text": [
      "Training Episodes..:  10%|█▋              | 2051/20000 [00:04<00:39, 454.51it/s]"
     ]
    },
    {
     "name": "stdout",
     "output_type": "stream",
     "text": [
      "Episode: 2000, Epsilon: 0.0224, Reward: 129.0\n"
     ]
    },
    {
     "name": "stderr",
     "output_type": "stream",
     "text": [
      "Training Episodes..:  15%|██▍             | 3061/20000 [00:06<00:36, 463.13it/s]"
     ]
    },
    {
     "name": "stdout",
     "output_type": "stream",
     "text": [
      "Episode: 3000, Epsilon: 0.0183, Reward: 140.0\n"
     ]
    },
    {
     "name": "stderr",
     "output_type": "stream",
     "text": [
      "Training Episodes..:  20%|███▎            | 4077/20000 [00:08<00:32, 482.64it/s]"
     ]
    },
    {
     "name": "stdout",
     "output_type": "stream",
     "text": [
      "Episode: 4000, Epsilon: 0.0158, Reward: 136.0\n"
     ]
    },
    {
     "name": "stderr",
     "output_type": "stream",
     "text": [
      "Training Episodes..:  25%|████            | 5055/20000 [00:11<00:38, 392.13it/s]"
     ]
    },
    {
     "name": "stdout",
     "output_type": "stream",
     "text": [
      "Episode: 5000, Epsilon: 0.0141, Reward: 163.0\n"
     ]
    },
    {
     "name": "stderr",
     "output_type": "stream",
     "text": [
      "Training Episodes..:  30%|████▊           | 6048/20000 [00:14<00:44, 313.81it/s]"
     ]
    },
    {
     "name": "stdout",
     "output_type": "stream",
     "text": [
      "Episode: 6000, Epsilon: 0.0129, Reward: 195.0\n"
     ]
    },
    {
     "name": "stderr",
     "output_type": "stream",
     "text": [
      "Training Episodes..:  35%|█████▋          | 7055/20000 [00:17<00:41, 314.37it/s]"
     ]
    },
    {
     "name": "stdout",
     "output_type": "stream",
     "text": [
      "Episode: 7000, Epsilon: 0.0120, Reward: 175.0\n"
     ]
    },
    {
     "name": "stderr",
     "output_type": "stream",
     "text": [
      "Training Episodes..:  40%|██████▍         | 8056/20000 [00:20<00:37, 319.35it/s]"
     ]
    },
    {
     "name": "stdout",
     "output_type": "stream",
     "text": [
      "Episode: 8000, Epsilon: 0.0112, Reward: 200.0\n"
     ]
    },
    {
     "name": "stderr",
     "output_type": "stream",
     "text": [
      "Training Episodes..:  45%|███████▏        | 9050/20000 [00:23<00:34, 314.16it/s]"
     ]
    },
    {
     "name": "stdout",
     "output_type": "stream",
     "text": [
      "Episode: 9000, Epsilon: 0.0105, Reward: 200.0\n"
     ]
    },
    {
     "name": "stderr",
     "output_type": "stream",
     "text": [
      "Training Episodes..:  50%|███████▌       | 10046/20000 [00:26<00:31, 319.09it/s]"
     ]
    },
    {
     "name": "stdout",
     "output_type": "stream",
     "text": [
      "Episode: 10000, Epsilon: 0.0100, Reward: 200.0\n"
     ]
    },
    {
     "name": "stderr",
     "output_type": "stream",
     "text": [
      "Training Episodes..:  55%|████████▎      | 11039/20000 [00:30<00:28, 315.19it/s]"
     ]
    },
    {
     "name": "stdout",
     "output_type": "stream",
     "text": [
      "Episode: 11000, Epsilon: 0.0095, Reward: 200.0\n"
     ]
    },
    {
     "name": "stderr",
     "output_type": "stream",
     "text": [
      "Training Episodes..:  60%|█████████      | 12047/20000 [00:33<00:25, 314.81it/s]"
     ]
    },
    {
     "name": "stdout",
     "output_type": "stream",
     "text": [
      "Episode: 12000, Epsilon: 0.0091, Reward: 200.0\n"
     ]
    },
    {
     "name": "stderr",
     "output_type": "stream",
     "text": [
      "Training Episodes..:  65%|█████████▊     | 13042/20000 [00:36<00:22, 316.19it/s]"
     ]
    },
    {
     "name": "stdout",
     "output_type": "stream",
     "text": [
      "Episode: 13000, Epsilon: 0.0088, Reward: 200.0\n"
     ]
    },
    {
     "name": "stderr",
     "output_type": "stream",
     "text": [
      "Training Episodes..:  70%|██████████▌    | 14061/20000 [00:39<00:19, 308.95it/s]"
     ]
    },
    {
     "name": "stdout",
     "output_type": "stream",
     "text": [
      "Episode: 14000, Epsilon: 0.0085, Reward: 200.0\n"
     ]
    },
    {
     "name": "stderr",
     "output_type": "stream",
     "text": [
      "Training Episodes..:  75%|███████████▎   | 15054/20000 [00:42<00:15, 316.67it/s]"
     ]
    },
    {
     "name": "stdout",
     "output_type": "stream",
     "text": [
      "Episode: 15000, Epsilon: 0.0082, Reward: 200.0\n"
     ]
    },
    {
     "name": "stderr",
     "output_type": "stream",
     "text": [
      "Training Episodes..:  80%|████████████   | 16050/20000 [00:46<00:12, 309.97it/s]"
     ]
    },
    {
     "name": "stdout",
     "output_type": "stream",
     "text": [
      "Episode: 16000, Epsilon: 0.0079, Reward: 200.0\n"
     ]
    },
    {
     "name": "stderr",
     "output_type": "stream",
     "text": [
      "Training Episodes..:  85%|████████████▊  | 17048/20000 [00:49<00:09, 304.86it/s]"
     ]
    },
    {
     "name": "stdout",
     "output_type": "stream",
     "text": [
      "Episode: 17000, Epsilon: 0.0077, Reward: 200.0\n"
     ]
    },
    {
     "name": "stderr",
     "output_type": "stream",
     "text": [
      "Training Episodes..:  90%|█████████████▌ | 18062/20000 [00:52<00:06, 312.85it/s]"
     ]
    },
    {
     "name": "stdout",
     "output_type": "stream",
     "text": [
      "Episode: 18000, Epsilon: 0.0075, Reward: 200.0\n"
     ]
    },
    {
     "name": "stderr",
     "output_type": "stream",
     "text": [
      "Training Episodes..:  95%|██████████████▎| 19055/20000 [00:56<00:02, 318.38it/s]"
     ]
    },
    {
     "name": "stdout",
     "output_type": "stream",
     "text": [
      "Episode: 19000, Epsilon: 0.0073, Reward: 200.0\n"
     ]
    },
    {
     "name": "stderr",
     "output_type": "stream",
     "text": [
      "Training Episodes..: 100%|███████████████| 20000/20000 [00:59<00:00, 338.82it/s]"
     ]
    },
    {
     "name": "stdout",
     "output_type": "stream",
     "text": [
      "Episode: 20000, Epsilon: 0.0071, Reward: 200.0\n"
     ]
    },
    {
     "name": "stderr",
     "output_type": "stream",
     "text": [
      "\n"
     ]
    }
   ],
   "source": [
    "episode_lengths, episode_rewards, expert_Q = q_learning_train(bins,num_episodes=20000)"
   ]
  },
  {
   "cell_type": "code",
   "execution_count": 25,
   "id": "a10030f6",
   "metadata": {},
   "outputs": [
    {
     "name": "stdout",
     "output_type": "stream",
     "text": [
      "Saved Expert Q Table\n"
     ]
    }
   ],
   "source": [
    "# Save Q table\n",
    "\n",
    "try:\n",
    "    with open('../Data/Expert_Q_table', 'wb') as f:\n",
    "        pickle.dump(expert_Q, f)\n",
    "        print('Saved Expert Q Table')\n",
    "except Exception as err:\n",
    "    print(err)"
   ]
  },
  {
   "cell_type": "code",
   "execution_count": 30,
   "id": "91481d79",
   "metadata": {
    "scrolled": false
   },
   "outputs": [
    {
     "data": {
      "image/png": "[encoded data removed]",
      "text/plain": [
       "<Figure size 640x480 with 1 Axes>"
      ]
     },
     "metadata": {},
     "output_type": "display_data"
    }
   ],
   "source": [
    "# Plot performance\n",
    "\n",
    "plot_performance(episode_rewards,title=\"Expert Performance\",save=True,filename='../Results/Expert Performance')"
   ]
  }
 ],
 "metadata": {
  "kernelspec": {
   "display_name": "Python 3 (ipykernel)",
   "language": "python",
   "name": "python3"
  },
  "language_info": {
   "codemirror_mode": {
    "name": "ipython",
    "version": 3
   },
   "file_extension": ".py",
   "mimetype": "text/x-python",
   "name": "python",
   "nbconvert_exporter": "python",
   "pygments_lexer": "ipython3",
   "version": "3.10.12"
  }
 },
 "nbformat": 4,
 "nbformat_minor": 5
}
